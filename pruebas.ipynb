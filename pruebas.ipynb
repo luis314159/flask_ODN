{
 "cells": [
  {
   "cell_type": "code",
   "execution_count": 1,
   "metadata": {},
   "outputs": [
    {
     "name": "stdout",
     "output_type": "stream",
     "text": [
      "Collecting mysql-connector-python\n",
      "  Downloading mysql_connector_python-9.1.0-cp310-cp310-win_amd64.whl.metadata (6.2 kB)\n",
      "Requirement already satisfied: pandas in c:\\users\\lalmazan\\appdata\\local\\programs\\python\\python310\\lib\\site-packages (2.2.2)\n",
      "Requirement already satisfied: numpy>=1.22.4 in c:\\users\\lalmazan\\appdata\\local\\programs\\python\\python310\\lib\\site-packages (from pandas) (1.26.4)\n",
      "Requirement already satisfied: python-dateutil>=2.8.2 in c:\\users\\lalmazan\\appdata\\local\\programs\\python\\python310\\lib\\site-packages (from pandas) (2.9.0.post0)\n",
      "Requirement already satisfied: pytz>=2020.1 in c:\\users\\lalmazan\\appdata\\local\\programs\\python\\python310\\lib\\site-packages (from pandas) (2024.1)\n",
      "Requirement already satisfied: tzdata>=2022.7 in c:\\users\\lalmazan\\appdata\\local\\programs\\python\\python310\\lib\\site-packages (from pandas) (2024.1)\n",
      "Requirement already satisfied: six>=1.5 in c:\\users\\lalmazan\\appdata\\local\\programs\\python\\python310\\lib\\site-packages (from python-dateutil>=2.8.2->pandas) (1.16.0)\n",
      "Downloading mysql_connector_python-9.1.0-cp310-cp310-win_amd64.whl (16.1 MB)\n",
      "   ---------------------------------------- 0.0/16.1 MB ? eta -:--:--\n",
      "   ---------------------------------------- 0.0/16.1 MB ? eta -:--:--\n",
      "   ---------------------------------------- 0.1/16.1 MB 1.7 MB/s eta 0:00:10\n",
      "   ---------------------------------------- 0.2/16.1 MB 1.6 MB/s eta 0:00:10\n",
      "    --------------------------------------- 0.4/16.1 MB 2.5 MB/s eta 0:00:07\n",
      "   - -------------------------------------- 0.6/16.1 MB 2.9 MB/s eta 0:00:06\n",
      "   -- ------------------------------------- 0.9/16.1 MB 4.0 MB/s eta 0:00:04\n",
      "   ---- ----------------------------------- 1.8/16.1 MB 6.1 MB/s eta 0:00:03\n",
      "   ------ --------------------------------- 2.5/16.1 MB 7.7 MB/s eta 0:00:02\n",
      "   -------- ------------------------------- 3.5/16.1 MB 8.9 MB/s eta 0:00:02\n",
      "   ---------- ----------------------------- 4.3/16.1 MB 10.1 MB/s eta 0:00:02\n",
      "   ------------ --------------------------- 5.0/16.1 MB 10.7 MB/s eta 0:00:02\n",
      "   -------------- ------------------------- 5.8/16.1 MB 11.2 MB/s eta 0:00:01\n",
      "   ---------------- ----------------------- 6.6/16.1 MB 11.7 MB/s eta 0:00:01\n",
      "   ------------------ --------------------- 7.5/16.1 MB 12.4 MB/s eta 0:00:01\n",
      "   -------------------- ------------------- 8.4/16.1 MB 12.7 MB/s eta 0:00:01\n",
      "   ---------------------- ----------------- 8.9/16.1 MB 12.9 MB/s eta 0:00:01\n",
      "   ----------------------- ---------------- 9.6/16.1 MB 13.3 MB/s eta 0:00:01\n",
      "   ----------------------- ---------------- 9.6/16.1 MB 13.3 MB/s eta 0:00:01\n",
      "   ------------------------- -------------- 10.3/16.1 MB 13.6 MB/s eta 0:00:01\n",
      "   ---------------------------- ----------- 11.4/16.1 MB 16.4 MB/s eta 0:00:01\n",
      "   ------------------------------ --------- 12.1/16.1 MB 16.8 MB/s eta 0:00:01\n",
      "   ------------------------------- -------- 12.8/16.1 MB 16.0 MB/s eta 0:00:01\n",
      "   ---------------------------------- ----- 13.7/16.1 MB 15.6 MB/s eta 0:00:01\n",
      "   ----------------------------------- ---- 14.4/16.1 MB 15.6 MB/s eta 0:00:01\n",
      "   ------------------------------------- -- 15.0/16.1 MB 15.2 MB/s eta 0:00:01\n",
      "   ---------------------------------------  15.8/16.1 MB 15.2 MB/s eta 0:00:01\n",
      "   ---------------------------------------  16.0/16.1 MB 14.9 MB/s eta 0:00:01\n",
      "   ---------------------------------------  16.1/16.1 MB 14.6 MB/s eta 0:00:01\n",
      "   ---------------------------------------- 16.1/16.1 MB 13.3 MB/s eta 0:00:00\n",
      "Installing collected packages: mysql-connector-python\n",
      "Successfully installed mysql-connector-python-9.1.0\n"
     ]
    },
    {
     "name": "stderr",
     "output_type": "stream",
     "text": [
      "\n",
      "[notice] A new release of pip is available: 24.1.2 -> 24.3.1\n",
      "[notice] To update, run: python.exe -m pip install --upgrade pip\n"
     ]
    }
   ],
   "source": [
    "!pip install mysql-connector-python pandas\n"
   ]
  },
  {
   "cell_type": "code",
   "execution_count": 3,
   "metadata": {},
   "outputs": [
    {
     "name": "stdout",
     "output_type": "stream",
     "text": [
      "Collecting openpyxl\n",
      "  Downloading openpyxl-3.1.5-py2.py3-none-any.whl.metadata (2.5 kB)\n",
      "Collecting et-xmlfile (from openpyxl)\n",
      "  Downloading et_xmlfile-2.0.0-py3-none-any.whl.metadata (2.7 kB)\n",
      "Downloading openpyxl-3.1.5-py2.py3-none-any.whl (250 kB)\n",
      "   ---------------------------------------- 0.0/250.9 kB ? eta -:--:--\n",
      "   ---- ----------------------------------- 30.7/250.9 kB ? eta -:--:--\n",
      "   ----------- ---------------------------- 71.7/250.9 kB 1.3 MB/s eta 0:00:01\n",
      "   ----------------------------------- ---- 225.3/250.9 kB 2.0 MB/s eta 0:00:01\n",
      "   ---------------------------------------- 250.9/250.9 kB 1.5 MB/s eta 0:00:00\n",
      "Downloading et_xmlfile-2.0.0-py3-none-any.whl (18 kB)\n",
      "Installing collected packages: et-xmlfile, openpyxl\n",
      "Successfully installed et-xmlfile-2.0.0 openpyxl-3.1.5\n"
     ]
    },
    {
     "name": "stderr",
     "output_type": "stream",
     "text": [
      "\n",
      "[notice] A new release of pip is available: 24.1.2 -> 24.3.1\n",
      "[notice] To update, run: python.exe -m pip install --upgrade pip\n"
     ]
    }
   ],
   "source": [
    "!pip install openpyxl"
   ]
  },
  {
   "cell_type": "code",
   "execution_count": null,
   "metadata": {},
   "outputs": [],
   "source": [
    "import pandas as pd\n",
    "import mysql.connector\n",
    "\n",
    "# Load data from the Excel files\n",
    "efficiency_file = 'C://luis//ODN//data//EfficiencyCT//EfficiencyCT//EFFCT_24-W43.xlsx'\n",
    "ftt_file = 'C://luis//ODN//data//FTT//FTT//FTT_24-W43.xlsx'\n",
    "\n",
    "efficiency_data = pd.read_excel(efficiency_file)\n",
    "ftt_data = pd.read_excel(ftt_file)\n",
    "\n",
    "# Connect to MySQL database\n",
    "conn = mysql.connector.connect(\n",
    "    host=\"localhost\",\n",
    "    user=\"root\",\n",
    "    password=\"nirvana123\",\n",
    "    database=\"odn_db\"\n",
    ")\n",
    "cursor = conn.cursor()\n",
    "\n"
   ]
  },
  {
   "cell_type": "code",
   "execution_count": 3,
   "metadata": {},
   "outputs": [
    {
     "name": "stdout",
     "output_type": "stream",
     "text": [
      "Data successfully inserted into the database.\n"
     ]
    }
   ],
   "source": [
    "\n",
    "# Insert data into Plants table\n",
    "def insert_plants(data):\n",
    "    plants = data[['Plant', 'Area']].drop_duplicates()\n",
    "    for _, row in plants.iterrows():\n",
    "        cursor.execute(\"\"\"\n",
    "            INSERT INTO Plants (PlantName, Area)\n",
    "            VALUES (%s, %s)\n",
    "        \"\"\", (row['Plant'], row['Area']))\n",
    "    conn.commit()\n",
    "\n",
    "\n",
    "\n",
    "# Populate the database\n",
    "insert_plants(efficiency_data)\n",
    "\n",
    "\n",
    "print(\"Data successfully inserted into the database.\")\n"
   ]
  },
  {
   "cell_type": "code",
   "execution_count": 12,
   "metadata": {},
   "outputs": [],
   "source": [
    "def insert_lines(efficiency_data, ftt_data):\n",
    "    # Combinar nombres de líneas de ambos archivos y eliminar duplicados\n",
    "    lines_efficiency = efficiency_data[['Plant', 'Line Name']].drop_duplicates()\n",
    "    lines_ftt = ftt_data[['Plant Name', 'LineName']].rename(columns={'Plant Name': 'Plant', 'LineName': 'Line Name'}).drop_duplicates()\n",
    "    combined_lines = pd.concat([lines_efficiency, lines_ftt]).drop_duplicates()\n",
    "\n",
    "    for _, row in combined_lines.iterrows():\n",
    "        cursor.execute(\"\"\"\n",
    "            SELECT PlantID FROM Plants WHERE PlantName = %s\n",
    "        \"\"\", (row['Plant'],))\n",
    "        result = cursor.fetchone()\n",
    "        if result is None:\n",
    "            raise ValueError(f\"Plant {row['Plant']} not found in Plants table.\")\n",
    "        \n",
    "        plant_id = result[0]\n",
    "        \n",
    "        # Insertar solo si la línea no existe ya en la tabla\n",
    "        cursor.execute(\"\"\"\n",
    "            SELECT LineID FROM `Lines` WHERE LineName = %s\n",
    "        \"\"\", (row['Line Name'],))\n",
    "        if cursor.fetchone() is None:\n",
    "            cursor.execute(\"\"\"\n",
    "                INSERT INTO `Lines` (PlantID, LineName)\n",
    "                VALUES (%s, %s)\n",
    "            \"\"\", (plant_id, row['Line Name']))\n",
    "    conn.commit()\n"
   ]
  },
  {
   "cell_type": "code",
   "execution_count": 13,
   "metadata": {},
   "outputs": [
    {
     "name": "stdout",
     "output_type": "stream",
     "text": [
      "Data successfully inserted into the database.\n"
     ]
    }
   ],
   "source": [
    "# Populate the database\n",
    "insert_plants(ftt_data)\n",
    "\n",
    "\n",
    "print(\"Data successfully inserted into the database.\")"
   ]
  },
  {
   "cell_type": "code",
   "execution_count": 4,
   "metadata": {},
   "outputs": [
    {
     "name": "stdout",
     "output_type": "stream",
     "text": [
      "Data successfully inserted into the database.\n"
     ]
    }
   ],
   "source": [
    "def insert_lines(data):\n",
    "    lines = data[['Plant', 'Line Name']].drop_duplicates()\n",
    "    for _, row in lines.iterrows():\n",
    "        cursor.execute(\"\"\"\n",
    "            SELECT PlantID FROM Plants WHERE PlantName = %s\n",
    "        \"\"\", (row['Plant'],))\n",
    "        \n",
    "        # Consumir todos los resultados de la consulta SELECT\n",
    "        result = cursor.fetchall()\n",
    "        if len(result) == 0:\n",
    "            raise ValueError(f\"Plant {row['Plant']} not found in Plants table.\")\n",
    "        \n",
    "        plant_id = result[0][0]  # Obtener el primer resultado\n",
    "        \n",
    "        # Ejecutar la consulta INSERT\n",
    "        cursor.execute(\"\"\"\n",
    "            INSERT INTO `Lines` (PlantID, LineName)\n",
    "            VALUES (%s, %s)\n",
    "        \"\"\", (plant_id, row['Line Name']))\n",
    "    conn.commit()\n",
    "\n",
    "\n",
    "insert_lines(efficiency_data)\n",
    "\n",
    "\n",
    "print(\"Data successfully inserted into the database.\")"
   ]
  },
  {
   "cell_type": "code",
   "execution_count": 5,
   "metadata": {},
   "outputs": [
    {
     "name": "stdout",
     "output_type": "stream",
     "text": [
      "Data successfully inserted into the database.\n"
     ]
    }
   ],
   "source": [
    "def insert_efficiency_records(data):\n",
    "    for _, row in data.iterrows():\n",
    "        # Consumir los resultados correctamente\n",
    "        cursor.execute(\"\"\"\n",
    "            SELECT LineID FROM `Lines` WHERE LineName = %s\n",
    "        \"\"\", (row['Line Name'],))\n",
    "        \n",
    "        # Consumir todos los resultados para evitar conflictos\n",
    "        results = cursor.fetchall()\n",
    "        if len(results) == 0:\n",
    "            raise ValueError(f\"Line {row['Line Name']} not found in Lines table.\")\n",
    "        \n",
    "        line_id = results[0][0]  # Tomar el primer resultado\n",
    "        \n",
    "        cursor.execute(\"\"\"\n",
    "            INSERT INTO EfficiencyRecords (LineID, Year, Month, Day, Hour, EffPercentage, NumSerials, SerialsUnderTarget, SerialsOverTarget, AvgActualCT, AvgTargetCT)\n",
    "            VALUES (%s, %s, %s, %s, %s, %s, %s, %s, %s, %s, %s)\n",
    "        \"\"\", (\n",
    "            line_id, row['Year'], row['Month'], row['Day'], row['Hour'], row['Eff%'], row['#Serials'],\n",
    "            row['#Serials\\n<=Target CT'], row['#Serials\\n>Target CT'], row['Avg \\nAct CT'], row['Avg \\nTarget CT']\n",
    "        ))\n",
    "    conn.commit()\n",
    "\n",
    "insert_efficiency_records(efficiency_data)\n",
    "\n",
    "\n",
    "print(\"Data successfully inserted into the database.\")\n"
   ]
  },
  {
   "cell_type": "code",
   "execution_count": 25,
   "metadata": {},
   "outputs": [
    {
     "data": {
      "text/plain": [
       "True"
      ]
     },
     "execution_count": 25,
     "metadata": {},
     "output_type": "execute_result"
    }
   ],
   "source": [
    "cursor.close()"
   ]
  },
  {
   "cell_type": "code",
   "execution_count": 26,
   "metadata": {},
   "outputs": [],
   "source": [
    "import pandas as pd\n",
    "import mysql.connector\n",
    "\n",
    "# Load data from the Excel files\n",
    "efficiency_file = 'C://luis//ODN//data//EfficiencyCT//EfficiencyCT//EFFCT_24-W43.xlsx'\n",
    "ftt_file = 'C://luis//ODN//data//FTT//FTT//FTT_24-W43.xlsx'\n",
    "\n",
    "efficiency_data = pd.read_excel(efficiency_file)\n",
    "ftt_data = pd.read_excel(ftt_file)\n",
    "\n",
    "# Connect to MySQL database\n",
    "conn = mysql.connector.connect(\n",
    "    host=\"localhost\",\n",
    "    user=\"root\",\n",
    "    password=\"nirvana123\",\n",
    "    database=\"odn_db\"\n",
    ")\n",
    "cursor = conn.cursor(buffered=True)\n",
    "\n"
   ]
  },
  {
   "cell_type": "code",
   "execution_count": 27,
   "metadata": {},
   "outputs": [],
   "source": [
    "def insert_ftt_records(data):\n",
    "    for _, row in data.iterrows():\n",
    "        # Verificar si la planta existe, si no, crearla\n",
    "        cursor.execute(\"\"\"\n",
    "            SELECT PlantID FROM Plants WHERE PlantName = %s\n",
    "        \"\"\", (row['Plant Name'],))\n",
    "        \n",
    "        # Consumir resultados correctamente\n",
    "        plant_result = cursor.fetchall()\n",
    "        if len(plant_result) == 0:\n",
    "            cursor.execute(\"\"\"\n",
    "                INSERT INTO Plants (PlantName, Area)\n",
    "                VALUES (%s, %s)\n",
    "            \"\"\", (row['Plant Name'], 'Default Area'))\n",
    "            conn.commit()\n",
    "            cursor.execute(\"SELECT PlantID FROM Plants WHERE PlantName = %s\", (row['Plant Name'],))\n",
    "            plant_result = cursor.fetchall()\n",
    "        \n",
    "        plant_id = plant_result[0][0]\n",
    "\n",
    "        # Verificar si la línea existe, si no, crearla\n",
    "        cursor.execute(\"\"\"\n",
    "            SELECT LineID FROM `Lines` WHERE LineName = %s\n",
    "        \"\"\", (row['LineName'],))\n",
    "        \n",
    "        # Consumir resultados correctamente\n",
    "        line_result = cursor.fetchall()\n",
    "        if len(line_result) == 0:\n",
    "            cursor.execute(\"\"\"\n",
    "                INSERT INTO `Lines` (PlantID, LineName)\n",
    "                VALUES (%s, %s)\n",
    "            \"\"\", (plant_id, row['LineName']))\n",
    "            conn.commit()\n",
    "            cursor.execute(\"SELECT LineID FROM `Lines` WHERE LineName = %s\", (row['LineName'],))\n",
    "            line_result = cursor.fetchall()\n",
    "        \n",
    "        line_id = line_result[0][0]\n",
    "\n",
    "        # Insertar el registro en FTTRecords\n",
    "        cursor.execute(\"\"\"\n",
    "            INSERT INTO FTTRecords (LineID, MoveOutDateTime, FTTEffectiveness)\n",
    "            VALUES (%s, %s, %s)\n",
    "        \"\"\", (line_id, row['MoveOutDateAndHour'], row['Effectiveness (FTT)']))\n",
    "    conn.commit()\n",
    "\n"
   ]
  },
  {
   "cell_type": "code",
   "execution_count": 28,
   "metadata": {},
   "outputs": [],
   "source": [
    "insert_ftt_records(ftt_data)"
   ]
  },
  {
   "cell_type": "code",
   "execution_count": 17,
   "metadata": {},
   "outputs": [
    {
     "ename": "InternalError",
     "evalue": "Unread result found",
     "output_type": "error",
     "traceback": [
      "\u001b[1;31m---------------------------------------------------------------------------\u001b[0m",
      "\u001b[1;31mInternalError\u001b[0m                             Traceback (most recent call last)",
      "Cell \u001b[1;32mIn[17], line 7\u001b[0m\n\u001b[0;32m      5\u001b[0m missing_lines_in_db \u001b[38;5;241m=\u001b[39m []\n\u001b[0;32m      6\u001b[0m \u001b[38;5;28;01mfor\u001b[39;00m _, row \u001b[38;5;129;01min\u001b[39;00m missing_lines\u001b[38;5;241m.\u001b[39miterrows():\n\u001b[1;32m----> 7\u001b[0m     \u001b[43mcursor\u001b[49m\u001b[38;5;241;43m.\u001b[39;49m\u001b[43mexecute\u001b[49m\u001b[43m(\u001b[49m\u001b[38;5;124;43m\"\"\"\u001b[39;49m\n\u001b[0;32m      8\u001b[0m \u001b[38;5;124;43m        SELECT LineID FROM `Lines` WHERE LineName = \u001b[39;49m\u001b[38;5;132;43;01m%s\u001b[39;49;00m\n\u001b[0;32m      9\u001b[0m \u001b[38;5;124;43m    \u001b[39;49m\u001b[38;5;124;43m\"\"\"\u001b[39;49m\u001b[43m,\u001b[49m\u001b[43m \u001b[49m\u001b[43m(\u001b[49m\u001b[43mrow\u001b[49m\u001b[43m[\u001b[49m\u001b[38;5;124;43m'\u001b[39;49m\u001b[38;5;124;43mLineName\u001b[39;49m\u001b[38;5;124;43m'\u001b[39;49m\u001b[43m]\u001b[49m\u001b[43m,\u001b[49m\u001b[43m)\u001b[49m\u001b[43m)\u001b[49m\n\u001b[0;32m     10\u001b[0m     \u001b[38;5;28;01mif\u001b[39;00m cursor\u001b[38;5;241m.\u001b[39mfetchone() \u001b[38;5;129;01mis\u001b[39;00m \u001b[38;5;28;01mNone\u001b[39;00m:\n\u001b[0;32m     11\u001b[0m         missing_lines_in_db\u001b[38;5;241m.\u001b[39mappend(row)\n",
      "File \u001b[1;32mc:\\Users\\lalmazan\\AppData\\Local\\Programs\\Python\\Python310\\lib\\site-packages\\mysql\\connector\\cursor_cext.py:331\u001b[0m, in \u001b[0;36mCMySQLCursor.execute\u001b[1;34m(self, operation, params, multi)\u001b[0m\n\u001b[0;32m    329\u001b[0m \u001b[38;5;28;01mexcept\u001b[39;00m (ProgrammingError, \u001b[38;5;167;01mReferenceError\u001b[39;00m) \u001b[38;5;28;01mas\u001b[39;00m err:\n\u001b[0;32m    330\u001b[0m     \u001b[38;5;28;01mraise\u001b[39;00m ProgrammingError(\u001b[38;5;124m\"\u001b[39m\u001b[38;5;124mCursor is not connected\u001b[39m\u001b[38;5;124m\"\u001b[39m, \u001b[38;5;241m2055\u001b[39m) \u001b[38;5;28;01mfrom\u001b[39;00m \u001b[38;5;21;01merr\u001b[39;00m\n\u001b[1;32m--> 331\u001b[0m \u001b[38;5;28;43mself\u001b[39;49m\u001b[38;5;241;43m.\u001b[39;49m\u001b[43m_connection\u001b[49m\u001b[38;5;241;43m.\u001b[39;49m\u001b[43mhandle_unread_result\u001b[49m\u001b[43m(\u001b[49m\u001b[43m)\u001b[49m\n\u001b[0;32m    333\u001b[0m stmt \u001b[38;5;241m=\u001b[39m \u001b[38;5;124mb\u001b[39m\u001b[38;5;124m\"\u001b[39m\u001b[38;5;124m\"\u001b[39m\n\u001b[0;32m    334\u001b[0m \u001b[38;5;28mself\u001b[39m\u001b[38;5;241m.\u001b[39mreset()\n",
      "File \u001b[1;32mc:\\Users\\lalmazan\\AppData\\Local\\Programs\\Python\\Python310\\lib\\site-packages\\mysql\\connector\\connection_cext.py:1047\u001b[0m, in \u001b[0;36mCMySQLConnection.handle_unread_result\u001b[1;34m(self, prepared)\u001b[0m\n\u001b[0;32m   1045\u001b[0m     \u001b[38;5;28mself\u001b[39m\u001b[38;5;241m.\u001b[39mconsume_results()\n\u001b[0;32m   1046\u001b[0m \u001b[38;5;28;01melif\u001b[39;00m unread_result:\n\u001b[1;32m-> 1047\u001b[0m     \u001b[38;5;28;01mraise\u001b[39;00m InternalError(\u001b[38;5;124m\"\u001b[39m\u001b[38;5;124mUnread result found\u001b[39m\u001b[38;5;124m\"\u001b[39m)\n",
      "\u001b[1;31mInternalError\u001b[0m: Unread result found"
     ]
    }
   ],
   "source": [
    "# Extraer líneas en ftt_data que no están en la tabla Lines\n",
    "missing_lines = ftt_data[['Plant Name', 'LineName']].rename(columns={'Plant Name': 'Plant'}).drop_duplicates()\n",
    "\n",
    "# Buscar cuáles faltan en la base de datos\n",
    "missing_lines_in_db = []\n",
    "for _, row in missing_lines.iterrows():\n",
    "    cursor.execute(\"\"\"\n",
    "        SELECT LineID FROM `Lines` WHERE LineName = %s\n",
    "    \"\"\", (row['LineName'],))\n",
    "    if cursor.fetchone() is None:\n",
    "        missing_lines_in_db.append(row)\n",
    "\n",
    "# Mostrar las líneas faltantes\n",
    "if missing_lines_in_db:\n",
    "    print(\"Líneas faltantes en la base de datos:\")\n",
    "    for line in missing_lines_in_db:\n",
    "        print(line)\n",
    "else:\n",
    "    print(\"Todas las líneas están presentes en la base de datos.\")\n"
   ]
  },
  {
   "cell_type": "code",
   "execution_count": null,
   "metadata": {},
   "outputs": [],
   "source": []
  }
 ],
 "metadata": {
  "kernelspec": {
   "display_name": "Python 3",
   "language": "python",
   "name": "python3"
  },
  "language_info": {
   "codemirror_mode": {
    "name": "ipython",
    "version": 3
   },
   "file_extension": ".py",
   "mimetype": "text/x-python",
   "name": "python",
   "nbconvert_exporter": "python",
   "pygments_lexer": "ipython3",
   "version": "3.10.8"
  }
 },
 "nbformat": 4,
 "nbformat_minor": 2
}
